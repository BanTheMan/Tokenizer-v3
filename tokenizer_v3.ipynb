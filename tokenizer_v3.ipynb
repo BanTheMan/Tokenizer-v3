{
 "cells": [
  {
   "cell_type": "markdown",
   "metadata": {},
   "source": [
    "Series: NLP from basic principles to LLMs\n",
    "NLP: (Natural Language Processing)\n",
    "LLMs: (Large Language Models)\n",
    "\n",
    "My first Jupyter Folder: Tokenizers\n",
    "\n",
    "Tokenizing: How we get text to numbers.\n",
    "\n",
    "(This tokenizer leaves contractions)"
   ]
  },
  {
   "cell_type": "code",
   "execution_count": 1,
   "metadata": {},
   "outputs": [
    {
     "name": "stdout",
     "output_type": "stream",
     "text": [
      "Input a sentence to be tokenized: \n",
      "\n"
     ]
    }
   ],
   "source": [
    "# take in a setence to be tokenized\n",
    "print(\"Input a sentence to be tokenized: \\n\")\n",
    "sentence = input().lower()"
   ]
  },
  {
   "cell_type": "code",
   "execution_count": 2,
   "metadata": {},
   "outputs": [
    {
     "name": "stdout",
     "output_type": "stream",
     "text": [
      "\n",
      "Regex Matched Words:\n",
      "['no', 'biggies', \"i'm\", 'off', 'no', 'to', 'a', 'great', 'start', 'biggies']\n"
     ]
    }
   ],
   "source": [
    "# regex\n",
    "import re\n",
    "# regex accepts a provided criteria of characters\n",
    "\"\"\"\n",
    "this regex accepts any number of word characters (a word : \\w+) if it is followed by an apostrophe\n",
    "and more word characters ((?:\\'\\w+)) \n",
    "or (|) a word (\\w+) \n",
    "\"\"\"\n",
    "regex = r'\\w+(?:\\'\\w+)|\\w+'\n",
    "words = re.findall(regex, sentence, flags=0)\n",
    "# check with:\n",
    "print(f\"\\nRegex Matched Words:\\n{words}\")"
   ]
  },
  {
   "cell_type": "code",
   "execution_count": 3,
   "metadata": {},
   "outputs": [],
   "source": [
    "# create a dictionary to store each word\n",
    "dictionary = {\n",
    "    # key=word: value=chronological_number\n",
    "}"
   ]
  },
  {
   "cell_type": "code",
   "execution_count": 4,
   "metadata": {},
   "outputs": [
    {
     "name": "stdout",
     "output_type": "stream",
     "text": [
      "\n",
      "Dictionary:\n",
      " {'no': 1, 'biggies': 2, \"i'm\": 3, 'off': 4, 'to': 5, 'a': 6, 'great': 7, 'start': 8}\n"
     ]
    }
   ],
   "source": [
    "# insert and assign each word into the dictionary\n",
    "for word in words:\n",
    "    # check if word exists\n",
    "    try:\n",
    "        if not dictionary[word] > 0:\n",
    "            # the word has no value\n",
    "            dictionary[word] = len(dictionary) + 1\n",
    "    except KeyError:\n",
    "        # the word is not in the dictionary\n",
    "        dictionary[word] = len(dictionary) + 1\n",
    "    # word already stored\n",
    "# check wtih:\n",
    "print(f\"\\nDictionary:\\n {str(dictionary)}\")"
   ]
  },
  {
   "cell_type": "code",
   "execution_count": 5,
   "metadata": {},
   "outputs": [
    {
     "name": "stdout",
     "output_type": "stream",
     "text": [
      "\n",
      "Tokenized Sentence: \n",
      " [1, 2, 3, 4, 1, 5, 6, 7, 8, 2]\n"
     ]
    }
   ],
   "source": [
    "# create a sentence of the values of each word\n",
    "tokenized_sentence = []\n",
    "for word in words:\n",
    "    if not word == '':\n",
    "        token = dictionary[word]\n",
    "        tokenized_sentence.append(token)  \n",
    "# check with: \n",
    "print(f\"\\nTokenized Sentence: \\n {str(tokenized_sentence)}\")"
   ]
  }
 ],
 "metadata": {
  "kernelspec": {
   "display_name": "Python 3",
   "language": "python",
   "name": "python3"
  },
  "language_info": {
   "codemirror_mode": {
    "name": "ipython",
    "version": 3
   },
   "file_extension": ".py",
   "mimetype": "text/x-python",
   "name": "python",
   "nbconvert_exporter": "python",
   "pygments_lexer": "ipython3",
   "version": "3.10.8"
  },
  "orig_nbformat": 4
 },
 "nbformat": 4,
 "nbformat_minor": 2
}
